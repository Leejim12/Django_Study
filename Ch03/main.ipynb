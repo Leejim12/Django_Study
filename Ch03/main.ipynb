{
 "cells": [
  {
   "cell_type": "code",
   "execution_count": null,
   "metadata": {},
   "outputs": [],
   "source": [
    "# Django 프로젝트 생성\n",
    "django-admin startproject mysite\n",
    "## 터미널에서 입력"
   ]
  },
  {
   "attachments": {},
   "cell_type": "markdown",
   "metadata": {},
   "source": [
    "### polls 애플리케이션 디렉토리 및 하위 필요 파일 생성.\n",
    "1. 터미널 해당 폴더 이동\n",
    "2. 명령어 입력\n",
    "> python manage.py startapp polls"
   ]
  },
  {
   "attachments": {},
   "cell_type": "markdown",
   "metadata": {},
   "source": [
    "### 프로젝트 설정 파일 변경\n",
    "1. 터미덜 해당폴더 이동\n",
    "2. 명령어 입력 (노트패드 open)\n",
    "> notepad settings.py\n",
    "\n",
    "* 설정 내용\n",
    "1. ALLOWED_HOSTS 항목 적절하게 지정\n",
    "```\n",
    "DEBUG = True : 개발모드\n",
    "        False : 운영모드\n",
    "        * 운영모드일떈 반드시 서버, IP의 도메인 지정해야함.\n",
    "        * 개발모드일 경우 default\n",
    "        ['localhost','127.0.0.1']\n",
    "* 필자처럼 리눅스 192.168.56.101 서버에서 개발시\n",
    "ALLOWED_HOSTS = ['192.168.56.101','localhost','127.0.0.1']\n",
    "```\n",
    "2.  프로젝트에 포함되는 앱들 모두 설정파일에 등록해야함\n",
    "(polls 도 포함)\n",
    "```\n",
    "INSTALLED_APPS = [\n",
    "    'pools.app.PollsConfig',    # 추가\n",
    "    'django.contrib.admin',\n",
    "    'django.contrib.auth',\n",
    "    'django.contrib.contenttypes',\n",
    "    'django.contrib.sessions',\n",
    "    'django.contrib.messages',\n",
    "    'django.contrib.staticfiles',\n",
    "]\n",
    "```\n",
    "장고가 설정 클래스 찾을 수 있도록 모듈 경로까지 포함하여 등록\n",
    "'polls.apps.PollsConfig'\n",
    "\n",
    "3. 프로젝트에 사용할 DB 엔진 설정.\n",
    "```\n",
    "DATABASES = {\n",
    "    'default': {\n",
    "        'ENGINE': 'django.db.backends.sqlite3',\n",
    "        'NAME': BASE_DIR / 'db.sqlite3',\n",
    "    }\n",
    "}\n",
    "\n",
    "```\n",
    "4. 타임존 지정 (세계 표준시 => 한국시간으로)\n",
    "```\n",
    "# TIME_ZONE = 'UTC'\n",
    "TIME_ZONE = 'Asia/Seoul'\n",
    "```\n",
    "* USE_TZ = True 라고 설정 시, 장고가 알아서 시간대 조정함.\n",
    "일광절약시간제 : Daylight Saving Time\n",
    "=> 설정\n",
    ": USE_TZ = True\n",
    "    - 데이터베이스에 저장되는 시간은 UTC인데 Local은 한국 시간대일때.\n",
    "\n",
    "* 근데, 둘 다 한국시간대면 그냥\n",
    ": USE_TZ = False\n",
    "상세 내용\n",
    "-> https://docs.djangoproject.com/en/4.0/topics/il8n/timezones/"
   ]
  },
  {
   "attachments": {},
   "cell_type": "markdown",
   "metadata": {},
   "source": [
    "### 기본 테이블 생성\n",
    "* migrate 명령 : DB에 변경사항 있을 시 이를 반영해주는 명령어\n",
    "> python manage.py migrate\n",
    "* 장고 사용 시, 프로그래밍 전에 이미 테이블 만들어야함\n",
    "  - 기본적으로, 프로그래밍 시 반드시  사용자와 그룹 테이블 등이 필요하다는 가정 하에 만들어져있기 때문."
   ]
  }
 ],
 "metadata": {
  "kernelspec": {
   "display_name": "base",
   "language": "python",
   "name": "python3"
  },
  "language_info": {
   "name": "python",
   "version": "3.9.13 (main, Aug 25 2022, 23:51:50) [MSC v.1916 64 bit (AMD64)]"
  },
  "orig_nbformat": 4,
  "vscode": {
   "interpreter": {
    "hash": "ad2bdc8ecc057115af97d19610ffacc2b4e99fae6737bb82f5d7fb13d2f2c186"
   }
  }
 },
 "nbformat": 4,
 "nbformat_minor": 2
}
